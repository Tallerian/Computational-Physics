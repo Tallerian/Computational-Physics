{
 "cells": [
  {
   "cell_type": "markdown",
   "id": "d799ac24",
   "metadata": {},
   "source": [
    "# Name: Ian Ruvuto Kampwanyi\n",
    "\n",
    "# Computational Physics  Nagel-Schreckenberg model of traffic flow"
   ]
  },
  {
   "cell_type": "markdown",
   "id": "9596ee5c",
   "metadata": {},
   "source": [
    "### For this problem, I modelled an animation using a circle and scatter plots on the circle. For this I first named the following constants"
   ]
  },
  {
   "cell_type": "code",
   "execution_count": 1,
   "id": "eeec3733",
   "metadata": {},
   "outputs": [],
   "source": [
    "import matplotlib.pyplot as plt\n",
    "import numpy as np\n",
    "import random"
   ]
  },
  {
   "cell_type": "markdown",
   "id": "9cf2a550",
   "metadata": {},
   "source": [
    "##### Note here the array cars, is an array of lists of size 3 where position 0 = x coordinate, position 1 = y coordinate, and position 2 = velocity of the car"
   ]
  },
  {
   "cell_type": "code",
   "execution_count": 2,
   "id": "4df47fb4",
   "metadata": {},
   "outputs": [],
   "source": [
    "#Radius\n",
    "R = 10\n",
    "\n",
    "#maximum velocity\n",
    "max_v = 5/R\n",
    "\n",
    "#dawdle probability\n",
    "p = 0\n",
    "\n",
    "#Initial number of cars \n",
    "N = 4\n",
    "\n",
    "# Make an array of lists storing car states\n",
    "# the 1st stores the x position of the cell, 2nd y position of the cell, and 3rd the velocity\n",
    "cars = [[]]\n",
    "\n",
    "#array of points x and y\n",
    "ptx = [0]\n",
    "pty = [0]\n"
   ]
  },
  {
   "cell_type": "markdown",
   "id": "85566cc1",
   "metadata": {},
   "source": [
    "#### Following the model of the professor, in order to successfuly obtain results we define several function that will be needed to track each car in the circular or ring path"
   ]
  },
  {
   "cell_type": "markdown",
   "id": "13ffe298",
   "metadata": {},
   "source": [
    "#### Below are three functions that are part of the steps for each single car. Note Here the dist function works as if you are calculating the arc length from 1point(car) to another point(next car)"
   ]
  },
  {
   "cell_type": "code",
   "execution_count": 3,
   "id": "eb763779",
   "metadata": {},
   "outputs": [],
   "source": [
    "#function dist returns the distance btn a car and the next one\n",
    "def dist(car_next, car_rn):\n",
    "    #strt = math.sqrt((R*(car_next[0]-car_rn[0])**2)+((R*(car_next[1]-car_rn[1])**2)))\n",
    "    angle = np.cos(car_next[0]) - np.cos(car_rn[0])\n",
    "    if (angle < 0):\n",
    "        angle = 2+angle\n",
    "    distance = (angle*np.pi)*R\n",
    "    return distance\n",
    "\n",
    "#defining a function to append cars in the circle\n",
    "def add_cars(num):\n",
    "    for i in range(num):\n",
    "        frst = random.uniform(0.00,6.28)\n",
    "        frst = round(frst,2)\n",
    "        cars.append(point_def(frst, frst, 1/R))\n",
    "    return num\n",
    "\n",
    "#arraning cars according to points\n",
    "def arrange(num):\n",
    "    a = 0\n",
    "    i = 0\n",
    "    while i < num-1:\n",
    "        if (cars[i][0]>cars[i+1][0]):\n",
    "            temp = cars[i][0]\n",
    "            cars[i][0] = cars[i+1][0]\n",
    "            cars[i][1] = cars[i+1][1]\n",
    "            cars[i+1][0] = temp\n",
    "            cars[i+1][1] = temp\n",
    "            i = -1\n",
    "        i = i + 1\n",
    "        a = a + 1\n",
    "    print (a)"
   ]
  },
  {
   "cell_type": "markdown",
   "id": "e949c6c5",
   "metadata": {},
   "source": [
    "#### From the question we also implement the dawdle probablity. For this we call a random function btn 0 and 1 and if the value is less or equal to the limit provided then we add a 1 to the current velocity of the car"
   ]
  },
  {
   "cell_type": "code",
   "execution_count": 4,
   "id": "d372bd01",
   "metadata": {},
   "outputs": [],
   "source": [
    "#dawdle_probabilty\n",
    "def dawdle(lim):\n",
    "    check = random.uniform(0.00,1.00)\n",
    "    if (check <= lim):\n",
    "        return 1\n",
    "    else:\n",
    "        return 0"
   ]
  },
  {
   "cell_type": "markdown",
   "id": "070d3c9e",
   "metadata": {},
   "source": [
    "#### To model this we need to perform a certain number of function for each car in each step. The function works such that each cars velocity depend on if the car is at the maximum velocoity -in this case the velocity is increased by one if the car is not at max velocity. And also if the distance of the next car is smaller than the velocity of the car itself -in this case we reduce the velocity to the distance itself"
   ]
  },
  {
   "cell_type": "code",
   "execution_count": 5,
   "id": "08914d6f",
   "metadata": {},
   "outputs": [],
   "source": [
    "#next step function\n",
    "def next_step(num):\n",
    "    for i in range(num):\n",
    "        #1st check\n",
    "        if cars[i][2] < max_v:\n",
    "            if i == num-1:\n",
    "                cars[i][2] = round((cars[i][2] + 1/R),2) \n",
    "            else:\n",
    "                cars[i][2] = round((cars[i][2] + 1/R),2) \n",
    "\n",
    "        #2nd check\n",
    "        if i == num-1:\n",
    "            #print(cars[0],\" \", cars[i])\n",
    "            distance = dist(cars[0], cars[i])\n",
    "            \"\"\" print(\"the distance is \", distance) \"\"\"\n",
    "        else:\n",
    "            #print(cars[i+1],\" \", cars[i])\n",
    "            distance = dist(cars[i+1], cars[i])\n",
    "        if distance < cars[i][2]:\n",
    "            cars[i][2] = round(distance/R,2) - 0.000001 #this is for accuracy to avoid the car to go infront of the other\n",
    "\n",
    "        #3rd check with dawdle probability\n",
    "        check = dawdle(p)\n",
    "        if(check == 1):\n",
    "            cars[i][2] = cars[i][2] - 1/R\n",
    "        \n",
    "\n",
    "def next_place(num):\n",
    "    for i in range(num):\n",
    "        cars[i][0] = cars[i][0] + (cars[i][2]/R)\n",
    "        cars[i][1] = cars[i][1] + (cars[i][2]/R)"
   ]
  },
  {
   "cell_type": "markdown",
   "id": "31826e82",
   "metadata": {},
   "source": [
    "#### Now That we are done with the most important function of the algorithms itself we now need to perform initialisation of the cars into points consisting of cos and sin in order to form a ring movement"
   ]
  },
  {
   "cell_type": "code",
   "execution_count": 6,
   "id": "f36a31cc",
   "metadata": {},
   "outputs": [],
   "source": [
    "#Function for point initialisation\n",
    "def pt_init(num):\n",
    "    for i in range(num-1):\n",
    "        ptx.append(0)\n",
    "        pty.append(0)\n",
    "        \n",
    "def point_init(arr, num):\n",
    "    for i in range(num):\n",
    "        ptx[i] = R*np.cos(arr[i][0]) \n",
    "        pty[i] = R*np.sin(arr[i][1])\n",
    "\n",
    "\n",
    "def point_def(pointx, pointy, velocity):\n",
    "    temp = [pointx, pointy,velocity]\n",
    "    return temp"
   ]
  },
  {
   "cell_type": "markdown",
   "id": "734439e2",
   "metadata": {},
   "source": [
    "### Now we can start by drawing the circular path for cars by using x as a cos function and y as a sine function"
   ]
  },
  {
   "cell_type": "code",
   "execution_count": 7,
   "id": "9796736d",
   "metadata": {
    "scrolled": true
   },
   "outputs": [
    {
     "data": {
      "text/plain": [
       "[<matplotlib.lines.Line2D at 0x1d164d40760>]"
      ]
     },
     "execution_count": 7,
     "metadata": {},
     "output_type": "execute_result"
    },
    {
     "data": {
      "image/png": "[encoded data removed]",
      "text/plain": [
       "<Figure size 432x288 with 1 Axes>"
      ]
     },
     "metadata": {
      "needs_background": "light"
     },
     "output_type": "display_data"
    }
   ],
   "source": [
    "#number of edges\n",
    "n = 64\n",
    "\n",
    "#subdivide intervals\n",
    "t = np.linspace(0, 2*np.pi, n+1)\n",
    "\n",
    "#x and y arrays of the points on the ring path for the cars\n",
    "x = R*np.cos(t)\n",
    "y = R*np.sin(t)\n",
    "\n",
    "#Display the circle\n",
    "grid = plt.figure()\n",
    "plt.axis(\"equal\")\n",
    "plt.plot(x, y, 'k')"
   ]
  },
  {
   "cell_type": "markdown",
   "id": "23cebe76",
   "metadata": {},
   "source": [
    "### Part a)\n",
    "#### Simulate a traffic jam with 5 of 15 cars and p = 0.0. The rest of the cars are to be distributed randomly with a random initial velocity."
   ]
  },
  {
   "cell_type": "code",
   "execution_count": 8,
   "id": "d79f1786",
   "metadata": {},
   "outputs": [
    {
     "name": "stdout",
     "output_type": "stream",
     "text": [
      "601\n"
     ]
    }
   ],
   "source": [
    "p = 0\n",
    "N = 5\n",
    "cars[0] = (point_def(0.4, 0.4, 1/R)) \n",
    "cars.append(point_def(0.8, 0.8, 1/R))\n",
    "cars.append(point_def(1.2, 1.2, 1/R))\n",
    "cars.append(point_def(1.6, 1.6, 1/R))\n",
    "cars.append(point_def(1.8, 1.8, 1/R))\n",
    "\n",
    "#initialising all cars and points before looping the motion\n",
    "N = N + add_cars(15)\n",
    "arrange(N)\n",
    "pt_init(N)"
   ]
  },
  {
   "cell_type": "markdown",
   "id": "99cf0949",
   "metadata": {},
   "source": [
    "#### Now we implement a loop updating every cars position to obtain an animation"
   ]
  },
  {
   "cell_type": "code",
   "execution_count": 9,
   "id": "cd982cf3",
   "metadata": {},
   "outputs": [],
   "source": [
    "from matplotlib.animation import FuncAnimation\n",
    "\n",
    "def init_func():\n",
    "    plt.clf()\n",
    "\n",
    "def update_plot(i):\n",
    "    plt.clf()\n",
    "    point_init(cars, N)\n",
    "    plt.plot(x, y, 'k')\n",
    "    plt.scatter(ptx, pty, 15)\n",
    "    text = \"Time t = \"+ str(i)+ \"s\"\n",
    "    grid.text(0.45,0.50, text)\n",
    "    next_step(N)\n",
    "    next_place(N)\n",
    "\n",
    "anim = FuncAnimation(grid, update_plot, frames=np.linspace(0, 2*np.pi, n+1), init_func= init_func, interval=30)"
   ]
  },
  {
   "cell_type": "markdown",
   "id": "25fb1642",
   "metadata": {},
   "source": [
    "##### Please note if the animation cannot run on the jupyter notebook. Please run the code Animation1.py included in the folder."
   ]
  },
  {
   "cell_type": "markdown",
   "id": "f6ce9a2b",
   "metadata": {},
   "source": [
    "### Observation for part a):  Run Animation1.py\n",
    "#### -From the animation we observe the Nagel-Schreckenberg model of traffic flow. \n",
    "#### -We see there are time when we have the highest density of cars (more cars crowded together) and we observe cars slowing down casuing the cars behind them to slow down as well.\n",
    "#### -We also observe lowest density of cars(less cars on the road) and in this case the car moves at maximum velocity until it reaches the high density region of cars"
   ]
  },
  {
   "cell_type": "markdown",
   "id": "70568fbc",
   "metadata": {},
   "source": [
    "#### Now we double the cars to 30: Run Animation1.2.py"
   ]
  },
  {
   "cell_type": "markdown",
   "id": "323f384d",
   "metadata": {},
   "source": [
    "### Part b)\n",
    "#### Simulate a traffic jam with 5 of 15 cars and p = 0.3. The rest of the cars are to be distributed randomly with a random initial velocity.\n",
    "#### For this please run the code Animation2.py included in the folder."
   ]
  },
  {
   "cell_type": "markdown",
   "id": "58b47f84",
   "metadata": {},
   "source": [
    "### Observation for part b):\n",
    "#### -We observe that some cars get very packed together. In other words there is a very high density of cars as time passes by. In addition due to the algorithm we also observe that some cars go out of the respective ordered cell. In that case this causes more of cars crushing to each other.\n",
    "\n",
    "\n",
    "### For a better observation of the explanation run Animation3.py which has a dawdle probability of 0.6 (much higher)."
   ]
  },
  {
   "cell_type": "code",
   "execution_count": null,
   "id": "dae799d9",
   "metadata": {},
   "outputs": [],
   "source": []
  }
 ],
 "metadata": {
  "kernelspec": {
   "display_name": "Python 3 (ipykernel)",
   "language": "python",
   "name": "python3"
  },
  "language_info": {
   "codemirror_mode": {
    "name": "ipython",
    "version": 3
   },
   "file_extension": ".py",
   "mimetype": "text/x-python",
   "name": "python",
   "nbconvert_exporter": "python",
   "pygments_lexer": "ipython3",
   "version": "3.9.12"
  },
  "vscode": {
   "interpreter": {
    "hash": "b1ef0e845772d023c545e5b67776932ec112e4319f08acbfa02d1d44d1927756"
   }
  }
 },
 "nbformat": 4,
 "nbformat_minor": 5
}
